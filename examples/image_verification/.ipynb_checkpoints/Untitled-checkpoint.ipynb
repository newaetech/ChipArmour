{
 "cells": [
  {
   "cell_type": "code",
   "execution_count": 3,
   "metadata": {},
   "outputs": [],
   "source": [
    "SCOPETYPE = 'OPENADC'\n",
    "PLATFORM = 'CWLITEARM'"
   ]
  },
  {
   "cell_type": "code",
   "execution_count": 4,
   "metadata": {},
   "outputs": [
    {
     "name": "stdout",
     "output_type": "stream",
     "text": [
      "rm -f -- image-demo-CWLITEARM.hex\n",
      "rm -f -- image-demo-CWLITEARM.eep\n",
      "rm -f -- image-demo-CWLITEARM.cof\n",
      "rm -f -- image-demo-CWLITEARM.elf\n",
      "rm -f -- image-demo-CWLITEARM.map\n",
      "rm -f -- image-demo-CWLITEARM.sym\n",
      "rm -f -- image-demo-CWLITEARM.lss\n",
      "rm -f -- objdir/*.o\n",
      "rm -f -- objdir/*.lst\n",
      "rm -f -- image.s ../../../src/chiparmour.s stm32f3_hal.s stm32f3_hal_lowlevel.s stm32f3_sysmem.s\n",
      "rm -f -- image.d ../../../src/chiparmour.d stm32f3_hal.d stm32f3_hal_lowlevel.d stm32f3_sysmem.d\n",
      "rm -f -- image.i ../../../src/chiparmour.i stm32f3_hal.i stm32f3_hal_lowlevel.i stm32f3_sysmem.i\n",
      ".\n",
      "-------- begin --------\n",
      "arm-none-eabi-gcc.exe (GNU Tools for ARM Embedded Processors 6-2017-q1-update) 6.3.1 20170215 (release) [ARM/embedded-6-branch revision 245512]\r\n",
      "Copyright (C) 2016 Free Software Foundation, Inc.\r\n",
      "This is free software; see the source for copying conditions.  There is NO\r\n",
      "warranty; not even for MERCHANTABILITY or FITNESS FOR A PARTICULAR PURPOSE.\r\n",
      "\r\n",
      ".\n",
      "Compiling C: image.c\n",
      "arm-none-eabi-gcc -c -mcpu=cortex-m4 -I. -DNO_EXTRA_OPTS -mthumb -mfloat-abi=soft -fmessage-length=0 -ffunction-sections -gdwarf-2 -DSTM32F303xC -DSTM32F3 -DSTM32 -DDEBUG -DHAL_TYPE=HAL_stm32f3 -DPLATFORM=CWLITEARM -DF_CPU=7372800UL -O0 -funsigned-char -funsigned-bitfields -fshort-enums -Wall -Wstrict-prototypes -Wa,-adhlns=objdir/image.lst -IC:/Users/adewar/Code/chipwhisperer/hardware/victims/firmware/hal -IC:/Users/adewar/Code/chipwhisperer/hardware/victims/firmware/hal/stm32f3 -IC:/Users/adewar/Code/chipwhisperer/hardware/victims/firmware/hal/stm32f3/CMSIS -IC:/Users/adewar/Code/chipwhisperer/hardware/victims/firmware/hal/stm32f3/CMSIS/core -IC:/Users/adewar/Code/chipwhisperer/hardware/victims/firmware/hal/stm32f3/CMSIS/device -IC:/Users/adewar/Code/chipwhisperer/hardware/victims/firmware/hal/stm32f4/Legacy -IC:/Users/adewar/Code/chipwhisperer/hardware/victims/firmware/crypto/ -std=gnu99 -MMD -MP -MF .dep/image.o.d image.c -o objdir/image.o \n",
      ".\n",
      "Compiling C: C:/Users/adewar/Code/chipwhisperer/hardware/victims/firmware/hal/stm32f3/stm32f3_hal.c\n",
      "arm-none-eabi-gcc -c -mcpu=cortex-m4 -I. -DNO_EXTRA_OPTS -mthumb -mfloat-abi=soft -fmessage-length=0 -ffunction-sections -gdwarf-2 -DSTM32F303xC -DSTM32F3 -DSTM32 -DDEBUG -DHAL_TYPE=HAL_stm32f3 -DPLATFORM=CWLITEARM -DF_CPU=7372800UL -O0 -funsigned-char -funsigned-bitfields -fshort-enums -Wall -Wstrict-prototypes -Wa,-adhlns=objdir/stm32f3_hal.lst -IC:/Users/adewar/Code/chipwhisperer/hardware/victims/firmware/hal -IC:/Users/adewar/Code/chipwhisperer/hardware/victims/firmware/hal/stm32f3 -IC:/Users/adewar/Code/chipwhisperer/hardware/victims/firmware/hal/stm32f3/CMSIS -IC:/Users/adewar/Code/chipwhisperer/hardware/victims/firmware/hal/stm32f3/CMSIS/core -IC:/Users/adewar/Code/chipwhisperer/hardware/victims/firmware/hal/stm32f3/CMSIS/device -IC:/Users/adewar/Code/chipwhisperer/hardware/victims/firmware/hal/stm32f4/Legacy -IC:/Users/adewar/Code/chipwhisperer/hardware/victims/firmware/crypto/ -std=gnu99 -MMD -MP -MF .dep/stm32f3_hal.o.d C:/Users/adewar/Code/chipwhisperer/hardware/victims/firmware/hal/stm32f3/stm32f3_hal.c -o objdir/stm32f3_hal.o \n",
      ".\n",
      "Compiling C: C:/Users/adewar/Code/chipwhisperer/hardware/victims/firmware/hal/stm32f3/stm32f3_hal_lowlevel.c\n",
      "arm-none-eabi-gcc -c -mcpu=cortex-m4 -I. -DNO_EXTRA_OPTS -mthumb -mfloat-abi=soft -fmessage-length=0 -ffunction-sections -gdwarf-2 -DSTM32F303xC -DSTM32F3 -DSTM32 -DDEBUG -DHAL_TYPE=HAL_stm32f3 -DPLATFORM=CWLITEARM -DF_CPU=7372800UL -O0 -funsigned-char -funsigned-bitfields -fshort-enums -Wall -Wstrict-prototypes -Wa,-adhlns=objdir/stm32f3_hal_lowlevel.lst -IC:/Users/adewar/Code/chipwhisperer/hardware/victims/firmware/hal -IC:/Users/adewar/Code/chipwhisperer/hardware/victims/firmware/hal/stm32f3 -IC:/Users/adewar/Code/chipwhisperer/hardware/victims/firmware/hal/stm32f3/CMSIS -IC:/Users/adewar/Code/chipwhisperer/hardware/victims/firmware/hal/stm32f3/CMSIS/core -IC:/Users/adewar/Code/chipwhisperer/hardware/victims/firmware/hal/stm32f3/CMSIS/device -IC:/Users/adewar/Code/chipwhisperer/hardware/victims/firmware/hal/stm32f4/Legacy -IC:/Users/adewar/Code/chipwhisperer/hardware/victims/firmware/crypto/ -std=gnu99 -MMD -MP -MF .dep/stm32f3_hal_lowlevel.o.d C:/Users/adewar/Code/chipwhisperer/hardware/victims/firmware/hal/stm32f3/stm32f3_hal_lowlevel.c -o objdir/stm32f3_hal_lowlevel.o \n",
      ".\n",
      "Compiling C: C:/Users/adewar/Code/chipwhisperer/hardware/victims/firmware/hal/stm32f3/stm32f3_sysmem.c\n",
      "arm-none-eabi-gcc -c -mcpu=cortex-m4 -I. -DNO_EXTRA_OPTS -mthumb -mfloat-abi=soft -fmessage-length=0 -ffunction-sections -gdwarf-2 -DSTM32F303xC -DSTM32F3 -DSTM32 -DDEBUG -DHAL_TYPE=HAL_stm32f3 -DPLATFORM=CWLITEARM -DF_CPU=7372800UL -O0 -funsigned-char -funsigned-bitfields -fshort-enums -Wall -Wstrict-prototypes -Wa,-adhlns=objdir/stm32f3_sysmem.lst -IC:/Users/adewar/Code/chipwhisperer/hardware/victims/firmware/hal -IC:/Users/adewar/Code/chipwhisperer/hardware/victims/firmware/hal/stm32f3 -IC:/Users/adewar/Code/chipwhisperer/hardware/victims/firmware/hal/stm32f3/CMSIS -IC:/Users/adewar/Code/chipwhisperer/hardware/victims/firmware/hal/stm32f3/CMSIS/core -IC:/Users/adewar/Code/chipwhisperer/hardware/victims/firmware/hal/stm32f3/CMSIS/device -IC:/Users/adewar/Code/chipwhisperer/hardware/victims/firmware/hal/stm32f4/Legacy -IC:/Users/adewar/Code/chipwhisperer/hardware/victims/firmware/crypto/ -std=gnu99 -MMD -MP -MF .dep/stm32f3_sysmem.o.d C:/Users/adewar/Code/chipwhisperer/hardware/victims/firmware/hal/stm32f3/stm32f3_sysmem.c -o objdir/stm32f3_sysmem.o \n",
      ".\n",
      "Assembling: C:/Users/adewar/Code/chipwhisperer/hardware/victims/firmware/hal/stm32f3/stm32f3_startup.S\n",
      "arm-none-eabi-gcc -c -mcpu=cortex-m4 -I. -x assembler-with-cpp -mthumb -mfloat-abi=soft -fmessage-length=0 -ffunction-sections -DF_CPU=7372800 -Wa,-gstabs,-adhlns=objdir/stm32f3_startup.lst -IC:/Users/adewar/Code/chipwhisperer/hardware/victims/firmware/hal -IC:/Users/adewar/Code/chipwhisperer/hardware/victims/firmware/hal/stm32f3 -IC:/Users/adewar/Code/chipwhisperer/hardware/victims/firmware/hal/stm32f3/CMSIS -IC:/Users/adewar/Code/chipwhisperer/hardware/victims/firmware/hal/stm32f3/CMSIS/core -IC:/Users/adewar/Code/chipwhisperer/hardware/victims/firmware/hal/stm32f3/CMSIS/device -IC:/Users/adewar/Code/chipwhisperer/hardware/victims/firmware/hal/stm32f4/Legacy -IC:/Users/adewar/Code/chipwhisperer/hardware/victims/firmware/crypto/ C:/Users/adewar/Code/chipwhisperer/hardware/victims/firmware/hal/stm32f3/stm32f3_startup.S -o objdir/stm32f3_startup.o\n",
      ".\n",
      "Linking: image-demo-CWLITEARM.elf\n",
      "arm-none-eabi-gcc -mcpu=cortex-m4 -I. -DNO_EXTRA_OPTS -mthumb -mfloat-abi=soft -fmessage-length=0 -ffunction-sections -gdwarf-2 -DSTM32F303xC -DSTM32F3 -DSTM32 -DDEBUG -DHAL_TYPE=HAL_stm32f3 -DPLATFORM=CWLITEARM -DF_CPU=7372800UL -O0 -funsigned-char -funsigned-bitfields -fshort-enums -Wall -Wstrict-prototypes -Wa,-adhlns=objdir/image.o -IC:/Users/adewar/Code/chipwhisperer/hardware/victims/firmware/hal -IC:/Users/adewar/Code/chipwhisperer/hardware/victims/firmware/hal/stm32f3 -IC:/Users/adewar/Code/chipwhisperer/hardware/victims/firmware/hal/stm32f3/CMSIS -IC:/Users/adewar/Code/chipwhisperer/hardware/victims/firmware/hal/stm32f3/CMSIS/core -IC:/Users/adewar/Code/chipwhisperer/hardware/victims/firmware/hal/stm32f3/CMSIS/device -IC:/Users/adewar/Code/chipwhisperer/hardware/victims/firmware/hal/stm32f4/Legacy -IC:/Users/adewar/Code/chipwhisperer/hardware/victims/firmware/crypto/ -std=gnu99 -MMD -MP -MF .dep/image-demo-CWLITEARM.elf.d objdir/image.o objdir/../../../src/chiparmour.o objdir/stm32f3_hal.o objdir/stm32f3_hal_lowlevel.o objdir/stm32f3_sysmem.o objdir/stm32f3_startup.o --output image-demo-CWLITEARM.elf --specs=nano.specs -T C:/Users/adewar/Code/chipwhisperer/hardware/victims/firmware/hal/stm32f3/LinkerScript.ld -Wl,--gc-sections -lm -Wl,-Map=image-demo-CWLITEARM.map,--cref   -lm  \n",
      ".\n",
      "Creating load file for Flash: image-demo-CWLITEARM.hex\n",
      "arm-none-eabi-objcopy -O ihex -R .eeprom -R .fuse -R .lock -R .signature image-demo-CWLITEARM.elf image-demo-CWLITEARM.hex\n",
      ".\n",
      "Creating load file for EEPROM: image-demo-CWLITEARM.eep\n",
      "arm-none-eabi-objcopy -j .eeprom --set-section-flags=.eeprom=\"alloc,load\" \\\n",
      "--change-section-lma .eeprom=0 --no-change-warnings -O ihex image-demo-CWLITEARM.elf image-demo-CWLITEARM.eep || exit 0\n",
      ".\n",
      "Creating Extended Listing: image-demo-CWLITEARM.lss\n",
      "arm-none-eabi-objdump -h -S -z image-demo-CWLITEARM.elf > image-demo-CWLITEARM.lss\n",
      ".\n",
      "Creating Symbol Table: image-demo-CWLITEARM.sym\n",
      "arm-none-eabi-nm -n image-demo-CWLITEARM.elf > image-demo-CWLITEARM.sym\n",
      "Size after:\n",
      "   text\t   data\t    bss\t    dec\t    hex\tfilename\r\n",
      "  11168\t   1216\t   1192\t  13576\t   3508\timage-demo-CWLITEARM.elf\r\n",
      "+--------------------------------------------------------\n",
      "+ Built for platform CW-Lite Arm (STM32F3)\n",
      "+--------------------------------------------------------\n"
     ]
    }
   ],
   "source": [
    "%%bash -s \"$PLATFORM\"\n",
    "make PLATFORM=$1"
   ]
  },
  {
   "cell_type": "code",
   "execution_count": 5,
   "metadata": {},
   "outputs": [
    {
     "name": "stdout",
     "output_type": "stream",
     "text": [
      "Serial baud rate = 38400\n"
     ]
    }
   ],
   "source": [
    "%run \"Helper_Scripts/Setup_Generic.ipynb\""
   ]
  },
  {
   "cell_type": "code",
   "execution_count": 6,
   "metadata": {},
   "outputs": [
    {
     "name": "stdout",
     "output_type": "stream",
     "text": [
      "Serial baud rate = 115200\n",
      "Detected known STMF32: STM32F302xB(C)/303xB(C)\n",
      "Extended erase (0x44), this can take ten seconds or more\n",
      "Attempting to program 12391 bytes at 0x8000000\n",
      "STM32F Programming flash...\n",
      "STM32F Reading flash...\n",
      "Verified flash OK, 12391 bytes\n",
      "Serial baud rate = 38400\n"
     ]
    }
   ],
   "source": [
    "cw.program_target(scope, prog, \"image-demo-CWLITEARM.hex\")"
   ]
  },
  {
   "cell_type": "code",
   "execution_count": 7,
   "metadata": {},
   "outputs": [],
   "source": [
    "def glitch_success(resp):\n",
    "    return \"CA Demo Image\" in resp"
   ]
  },
  {
   "cell_type": "code",
   "execution_count": 8,
   "metadata": {},
   "outputs": [
    {
     "name": "stdout",
     "output_type": "stream",
     "text": [
      "\u0000Hash: 0X4C6509CC\n",
      "\n",
      "RTOS Booted!\n",
      "\n",
      "\n",
      "206292\n",
      "False\n"
     ]
    }
   ],
   "source": [
    "target.flush()\n",
    "scope.arm()\n",
    "reset_target(scope)\n",
    "scope.io.hs2 = \"clkgen\"\n",
    "\n",
    "ret = scope.capture()\n",
    "if ret:\n",
    "    print(\"Scope capture timed out\")\n",
    "response = target.read(timeout=10)\n",
    "print(response)\n",
    "print(scope.adc.trig_count)\n",
    "print(glitch_success(response))"
   ]
  },
  {
   "cell_type": "code",
   "execution_count": 9,
   "metadata": {},
   "outputs": [
    {
     "name": "stdout",
     "output_type": "stream",
     "text": [
      "clk_src     = clkgen\n",
      "width       = 10.15625\n",
      "width_fine  = 0\n",
      "offset      = 10.15625\n",
      "offset_fine = 0\n",
      "trigger_src = ext_single\n",
      "arm_timing  = after_scope\n",
      "ext_offset  = 37\n",
      "repeat      = 10\n",
      "output      = clock_xor\n",
      "\n"
     ]
    }
   ],
   "source": [
    "from collections import namedtuple\n",
    "scope.glitch.clk_src = \"clkgen\"\n",
    "scope.glitch.output = \"clock_xor\"\n",
    "scope.glitch.trigger_src = \"ext_single\"\n",
    "\n",
    "scope.io.hs2 = \"glitch\"\n",
    "\n",
    "Range = namedtuple('Range', ['min', 'max', 'step'])\n",
    "offset_range = Range(-49, -30, 1)\n",
    "scope.glitch.ext_offset = 37\n",
    "scope.glitch.repeat = 10\n",
    "\n",
    "print(scope.glitch)"
   ]
  },
  {
   "cell_type": "code",
   "execution_count": 13,
   "metadata": {},
   "outputs": [
    {
     "name": "stdout",
     "output_type": "stream",
     "text": [
      "clk_src     = clkgen\n",
      "width       = -10.15625\n",
      "width_fine  = 0\n",
      "offset      = -39.84375\n",
      "offset_fine = 0\n",
      "trigger_src = ext_single\n",
      "arm_timing  = after_scope\n",
      "ext_offset  = 37\n",
      "repeat      = 1\n",
      "output      = clock_xor\n",
      "\n"
     ]
    },
    {
     "data": {
      "application/vnd.jupyter.widget-view+json": {
       "model_id": "",
       "version_major": 2,
       "version_minor": 0
      },
      "text/plain": [
       "HBox(children=(IntProgress(value=0), HTML(value='')))"
      ]
     },
     "metadata": {},
     "output_type": "display_data"
    },
    {
     "name": "stdout",
     "output_type": "stream",
     "text": [
      "Crashed\n",
      "Crashed\n",
      "Crashed\n"
     ]
    },
    {
     "data": {
      "application/vnd.jupyter.widget-view+json": {
       "model_id": "b4ce243035674159bbf2bd9973f155bf",
       "version_major": 2,
       "version_minor": 0
      },
      "text/plain": [
       "HBox(children=(IntProgress(value=0), HTML(value='')))"
      ]
     },
     "metadata": {},
     "output_type": "display_data"
    },
    {
     "ename": "KeyboardInterrupt",
     "evalue": "",
     "output_type": "error",
     "traceback": [
      "\u001b[1;31m---------------------------------------------------------------------------\u001b[0m",
      "\u001b[1;31mKeyboardInterrupt\u001b[0m                         Traceback (most recent call last)",
      "\u001b[1;32m<ipython-input-13-a7e12384aaf2>\u001b[0m in \u001b[0;36m<module>\u001b[1;34m\u001b[0m\n\u001b[0;32m     18\u001b[0m             \u001b[1;32mfor\u001b[0m \u001b[0mi\u001b[0m \u001b[1;32min\u001b[0m \u001b[0mrange\u001b[0m\u001b[1;33m(\u001b[0m\u001b[0msample_size\u001b[0m\u001b[1;33m)\u001b[0m\u001b[1;33m:\u001b[0m\u001b[1;33m\u001b[0m\u001b[1;33m\u001b[0m\u001b[0m\n\u001b[0;32m     19\u001b[0m                 \u001b[0mscope\u001b[0m\u001b[1;33m.\u001b[0m\u001b[0marm\u001b[0m\u001b[1;33m(\u001b[0m\u001b[1;33m)\u001b[0m\u001b[1;33m\u001b[0m\u001b[1;33m\u001b[0m\u001b[0m\n\u001b[1;32m---> 20\u001b[1;33m                 \u001b[0mreset_target\u001b[0m\u001b[1;33m(\u001b[0m\u001b[0mscope\u001b[0m\u001b[1;33m)\u001b[0m\u001b[1;33m\u001b[0m\u001b[1;33m\u001b[0m\u001b[0m\n\u001b[0m\u001b[0;32m     21\u001b[0m                 \u001b[0mret\u001b[0m \u001b[1;33m=\u001b[0m \u001b[0mscope\u001b[0m\u001b[1;33m.\u001b[0m\u001b[0mcapture\u001b[0m\u001b[1;33m(\u001b[0m\u001b[1;33m)\u001b[0m\u001b[1;33m\u001b[0m\u001b[1;33m\u001b[0m\u001b[0m\n\u001b[0;32m     22\u001b[0m                 \u001b[1;32mif\u001b[0m \u001b[0mret\u001b[0m\u001b[1;33m:\u001b[0m\u001b[1;33m\u001b[0m\u001b[1;33m\u001b[0m\u001b[0m\n",
      "\u001b[1;32m<ipython-input-5-a80da0d5f075>\u001b[0m in \u001b[0;36mreset_target\u001b[1;34m(scope)\u001b[0m\n\u001b[0;32m     10\u001b[0m     \u001b[1;32melse\u001b[0m\u001b[1;33m:\u001b[0m\u001b[1;33m\u001b[0m\u001b[1;33m\u001b[0m\u001b[0m\n\u001b[0;32m     11\u001b[0m         \u001b[0mscope\u001b[0m\u001b[1;33m.\u001b[0m\u001b[0mio\u001b[0m\u001b[1;33m.\u001b[0m\u001b[0mnrst\u001b[0m \u001b[1;33m=\u001b[0m \u001b[1;34m'low'\u001b[0m\u001b[1;33m\u001b[0m\u001b[1;33m\u001b[0m\u001b[0m\n\u001b[1;32m---> 12\u001b[1;33m         \u001b[0mtime\u001b[0m\u001b[1;33m.\u001b[0m\u001b[0msleep\u001b[0m\u001b[1;33m(\u001b[0m\u001b[1;36m0.05\u001b[0m\u001b[1;33m)\u001b[0m\u001b[1;33m\u001b[0m\u001b[1;33m\u001b[0m\u001b[0m\n\u001b[0m\u001b[0;32m     13\u001b[0m         \u001b[0mscope\u001b[0m\u001b[1;33m.\u001b[0m\u001b[0mio\u001b[0m\u001b[1;33m.\u001b[0m\u001b[0mnrst\u001b[0m \u001b[1;33m=\u001b[0m \u001b[1;34m'high'\u001b[0m\u001b[1;33m\u001b[0m\u001b[1;33m\u001b[0m\u001b[0m\n\u001b[0;32m     14\u001b[0m         \u001b[0mtime\u001b[0m\u001b[1;33m.\u001b[0m\u001b[0msleep\u001b[0m\u001b[1;33m(\u001b[0m\u001b[1;36m0.05\u001b[0m\u001b[1;33m)\u001b[0m\u001b[1;33m\u001b[0m\u001b[1;33m\u001b[0m\u001b[0m\n",
      "\u001b[1;31mKeyboardInterrupt\u001b[0m: "
     ]
    }
   ],
   "source": [
    "from collections import namedtuple\n",
    "from tqdm import tnrange\n",
    "f = open(\"log.txt\", \"w\")\n",
    "width_range = Range(-10.15, -5, 1)\n",
    "#scope.glitch.offset = -39.84\n",
    "offset_range = Range(-39.84, -30, 1)\n",
    "scope.glitch.width = width_range.min\n",
    "scope.glitch.offset = offset_range.min\n",
    "attack1_data = []\n",
    "ext_offset_range = Range(206200, 206300, 1)\n",
    "sample_size = 1\n",
    "scope.glitch.repeat = 1\n",
    "print(scope.glitch)\n",
    "while scope.glitch.offset < offset_range.max:\n",
    "    while scope.glitch.width < width_range.max:\n",
    "        for i in tnrange(ext_offset_range.min, ext_offset_range.max, ext_offset_range.step, leave=False):\n",
    "            successes = 0\n",
    "            for i in range(sample_size):\n",
    "                scope.arm()\n",
    "                reset_target(scope)\n",
    "                ret = scope.capture()\n",
    "                if ret:\n",
    "                    print('Timeout happened during acquisition')\n",
    "\n",
    "                response = target.read(timeout = 10)\n",
    "\n",
    "                # for table display purposes\n",
    "                success = glitch_success(response)\n",
    "                if success:\n",
    "                    print(\"Success\")\n",
    "                    successes += 1\n",
    "                if \"RTOS\" not in response:\n",
    "                    print(\"Crashed\")\n",
    "                f.write(\"___________________\")\n",
    "                f.write(response)\n",
    "                f.write(\"-------------------\")\n",
    "\n",
    "            attack1_data.append([scope.glitch.width, scope.glitch.offset, successes/sample_size, repr(response)])\n",
    "            # run aux stuff that should happen after trace here\n",
    "        scope.glitch.width += width_range.step\n",
    "    scope.glitch.offset += offset_range.step\n",
    "    scope.glitch.width = width_range.min\n",
    "print(\"Done glitching\")"
   ]
  },
  {
   "cell_type": "code",
   "execution_count": 12,
   "metadata": {},
   "outputs": [],
   "source": [
    "f.close()"
   ]
  },
  {
   "cell_type": "code",
   "execution_count": null,
   "metadata": {},
   "outputs": [],
   "source": [
    "for row in attack1_data:\n",
    "    if row[2] > 0:\n",
    "        print(row)"
   ]
  },
  {
   "cell_type": "code",
   "execution_count": null,
   "metadata": {},
   "outputs": [],
   "source": []
  }
 ],
 "metadata": {
  "kernelspec": {
   "display_name": "Python 3",
   "language": "python",
   "name": "python3"
  },
  "language_info": {
   "codemirror_mode": {
    "name": "ipython",
    "version": 3
   },
   "file_extension": ".py",
   "mimetype": "text/x-python",
   "name": "python",
   "nbconvert_exporter": "python",
   "pygments_lexer": "ipython3",
   "version": "3.7.6"
  }
 },
 "nbformat": 4,
 "nbformat_minor": 2
}
